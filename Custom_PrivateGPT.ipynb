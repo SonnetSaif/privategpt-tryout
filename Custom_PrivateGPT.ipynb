{
  "nbformat": 4,
  "nbformat_minor": 0,
  "metadata": {
    "colab": {
      "provenance": [],
      "authorship_tag": "ABX9TyMk77OLxPQDa7P36QdPmqj+",
      "include_colab_link": true
    },
    "kernelspec": {
      "name": "python3",
      "display_name": "Python 3"
    },
    "language_info": {
      "name": "python"
    }
  },
  "cells": [
    {
      "cell_type": "markdown",
      "metadata": {
        "id": "view-in-github",
        "colab_type": "text"
      },
      "source": [
        "<a href=\"https://colab.research.google.com/github/SonnetSaif/privategpt-tryout/blob/main/Custom_PrivateGPT.ipynb\" target=\"_parent\"><img src=\"https://colab.research.google.com/assets/colab-badge.svg\" alt=\"Open In Colab\"/></a>"
      ]
    },
    {
      "cell_type": "code",
      "execution_count": null,
      "metadata": {
        "colab": {
          "base_uri": "https://localhost:8080/"
        },
        "id": "RuKCij9jIduq",
        "outputId": "b096c74c-3815-4427-c87e-d3e4bc8fc9ce"
      },
      "outputs": [
        {
          "output_type": "stream",
          "name": "stdout",
          "text": [
            "Cloning into 'privateGPT'...\n",
            "remote: Enumerating objects: 279, done.\u001b[K\n",
            "remote: Counting objects: 100% (183/183), done.\u001b[K\n",
            "remote: Compressing objects: 100% (80/80), done.\u001b[K\n",
            "remote: Total 279 (delta 150), reused 103 (delta 103), pack-reused 96\u001b[K\n",
            "Receiving objects: 100% (279/279), 92.55 KiB | 957.00 KiB/s, done.\n",
            "Resolving deltas: 100% (155/155), done.\n"
          ]
        }
      ],
      "source": [
        "!git clone https://github.com/imartinez/privateGPT.git"
      ]
    },
    {
      "cell_type": "code",
      "source": [
        "%cd privateGPT"
      ],
      "metadata": {
        "id": "aAfrY8KyI9Jm"
      },
      "execution_count": null,
      "outputs": []
    },
    {
      "cell_type": "code",
      "source": [
        "!pip install -r requirements.txt"
      ],
      "metadata": {
        "id": "jiMn8LlOJAM_"
      },
      "execution_count": null,
      "outputs": []
    },
    {
      "cell_type": "code",
      "source": [
        "!mv example.env .env"
      ],
      "metadata": {
        "id": "TKdOcmpyJB5p"
      },
      "execution_count": null,
      "outputs": []
    },
    {
      "cell_type": "code",
      "source": [
        "!mkdir models\n",
        "%cd models"
      ],
      "metadata": {
        "colab": {
          "base_uri": "https://localhost:8080/"
        },
        "id": "26ttW55EP2XS",
        "outputId": "b04b4623-a65d-4305-9574-1644933bcaef"
      },
      "execution_count": null,
      "outputs": [
        {
          "output_type": "stream",
          "name": "stdout",
          "text": [
            "/content/privateGPT/models\n"
          ]
        }
      ]
    },
    {
      "cell_type": "code",
      "source": [
        "!wget https://gpt4all.io/models/ggml-gpt4all-j-v1.3-groovy.bin"
      ],
      "metadata": {
        "id": "X-uvHYpoMhfl"
      },
      "execution_count": null,
      "outputs": []
    },
    {
      "cell_type": "code",
      "source": [
        "%cd /content/privateGPT/source_documents/"
      ],
      "metadata": {
        "colab": {
          "base_uri": "https://localhost:8080/"
        },
        "id": "l-RL0WtRRqRd",
        "outputId": "b6a5db40-e19d-4a6e-b16c-882dbd7b64ff"
      },
      "execution_count": null,
      "outputs": [
        {
          "output_type": "stream",
          "name": "stdout",
          "text": [
            "/content/privateGPT/source_documents\n"
          ]
        }
      ]
    },
    {
      "cell_type": "code",
      "source": [
        "from google.colab import files\n",
        "uploaded = files.upload()"
      ],
      "metadata": {
        "colab": {
          "base_uri": "https://localhost:8080/",
          "height": 74
        },
        "id": "Z_WgWJfRNH1k",
        "outputId": "5a96f4ca-d735-4e96-866a-7781c20c2bce"
      },
      "execution_count": null,
      "outputs": [
        {
          "output_type": "display_data",
          "data": {
            "text/plain": [
              "<IPython.core.display.HTML object>"
            ],
            "text/html": [
              "\n",
              "     <input type=\"file\" id=\"files-d9e92455-6254-4560-bf91-c2b7fecb5f21\" name=\"files[]\" multiple disabled\n",
              "        style=\"border:none\" />\n",
              "     <output id=\"result-d9e92455-6254-4560-bf91-c2b7fecb5f21\">\n",
              "      Upload widget is only available when the cell has been executed in the\n",
              "      current browser session. Please rerun this cell to enable.\n",
              "      </output>\n",
              "      <script>// Copyright 2017 Google LLC\n",
              "//\n",
              "// Licensed under the Apache License, Version 2.0 (the \"License\");\n",
              "// you may not use this file except in compliance with the License.\n",
              "// You may obtain a copy of the License at\n",
              "//\n",
              "//      http://www.apache.org/licenses/LICENSE-2.0\n",
              "//\n",
              "// Unless required by applicable law or agreed to in writing, software\n",
              "// distributed under the License is distributed on an \"AS IS\" BASIS,\n",
              "// WITHOUT WARRANTIES OR CONDITIONS OF ANY KIND, either express or implied.\n",
              "// See the License for the specific language governing permissions and\n",
              "// limitations under the License.\n",
              "\n",
              "/**\n",
              " * @fileoverview Helpers for google.colab Python module.\n",
              " */\n",
              "(function(scope) {\n",
              "function span(text, styleAttributes = {}) {\n",
              "  const element = document.createElement('span');\n",
              "  element.textContent = text;\n",
              "  for (const key of Object.keys(styleAttributes)) {\n",
              "    element.style[key] = styleAttributes[key];\n",
              "  }\n",
              "  return element;\n",
              "}\n",
              "\n",
              "// Max number of bytes which will be uploaded at a time.\n",
              "const MAX_PAYLOAD_SIZE = 100 * 1024;\n",
              "\n",
              "function _uploadFiles(inputId, outputId) {\n",
              "  const steps = uploadFilesStep(inputId, outputId);\n",
              "  const outputElement = document.getElementById(outputId);\n",
              "  // Cache steps on the outputElement to make it available for the next call\n",
              "  // to uploadFilesContinue from Python.\n",
              "  outputElement.steps = steps;\n",
              "\n",
              "  return _uploadFilesContinue(outputId);\n",
              "}\n",
              "\n",
              "// This is roughly an async generator (not supported in the browser yet),\n",
              "// where there are multiple asynchronous steps and the Python side is going\n",
              "// to poll for completion of each step.\n",
              "// This uses a Promise to block the python side on completion of each step,\n",
              "// then passes the result of the previous step as the input to the next step.\n",
              "function _uploadFilesContinue(outputId) {\n",
              "  const outputElement = document.getElementById(outputId);\n",
              "  const steps = outputElement.steps;\n",
              "\n",
              "  const next = steps.next(outputElement.lastPromiseValue);\n",
              "  return Promise.resolve(next.value.promise).then((value) => {\n",
              "    // Cache the last promise value to make it available to the next\n",
              "    // step of the generator.\n",
              "    outputElement.lastPromiseValue = value;\n",
              "    return next.value.response;\n",
              "  });\n",
              "}\n",
              "\n",
              "/**\n",
              " * Generator function which is called between each async step of the upload\n",
              " * process.\n",
              " * @param {string} inputId Element ID of the input file picker element.\n",
              " * @param {string} outputId Element ID of the output display.\n",
              " * @return {!Iterable<!Object>} Iterable of next steps.\n",
              " */\n",
              "function* uploadFilesStep(inputId, outputId) {\n",
              "  const inputElement = document.getElementById(inputId);\n",
              "  inputElement.disabled = false;\n",
              "\n",
              "  const outputElement = document.getElementById(outputId);\n",
              "  outputElement.innerHTML = '';\n",
              "\n",
              "  const pickedPromise = new Promise((resolve) => {\n",
              "    inputElement.addEventListener('change', (e) => {\n",
              "      resolve(e.target.files);\n",
              "    });\n",
              "  });\n",
              "\n",
              "  const cancel = document.createElement('button');\n",
              "  inputElement.parentElement.appendChild(cancel);\n",
              "  cancel.textContent = 'Cancel upload';\n",
              "  const cancelPromise = new Promise((resolve) => {\n",
              "    cancel.onclick = () => {\n",
              "      resolve(null);\n",
              "    };\n",
              "  });\n",
              "\n",
              "  // Wait for the user to pick the files.\n",
              "  const files = yield {\n",
              "    promise: Promise.race([pickedPromise, cancelPromise]),\n",
              "    response: {\n",
              "      action: 'starting',\n",
              "    }\n",
              "  };\n",
              "\n",
              "  cancel.remove();\n",
              "\n",
              "  // Disable the input element since further picks are not allowed.\n",
              "  inputElement.disabled = true;\n",
              "\n",
              "  if (!files) {\n",
              "    return {\n",
              "      response: {\n",
              "        action: 'complete',\n",
              "      }\n",
              "    };\n",
              "  }\n",
              "\n",
              "  for (const file of files) {\n",
              "    const li = document.createElement('li');\n",
              "    li.append(span(file.name, {fontWeight: 'bold'}));\n",
              "    li.append(span(\n",
              "        `(${file.type || 'n/a'}) - ${file.size} bytes, ` +\n",
              "        `last modified: ${\n",
              "            file.lastModifiedDate ? file.lastModifiedDate.toLocaleDateString() :\n",
              "                                    'n/a'} - `));\n",
              "    const percent = span('0% done');\n",
              "    li.appendChild(percent);\n",
              "\n",
              "    outputElement.appendChild(li);\n",
              "\n",
              "    const fileDataPromise = new Promise((resolve) => {\n",
              "      const reader = new FileReader();\n",
              "      reader.onload = (e) => {\n",
              "        resolve(e.target.result);\n",
              "      };\n",
              "      reader.readAsArrayBuffer(file);\n",
              "    });\n",
              "    // Wait for the data to be ready.\n",
              "    let fileData = yield {\n",
              "      promise: fileDataPromise,\n",
              "      response: {\n",
              "        action: 'continue',\n",
              "      }\n",
              "    };\n",
              "\n",
              "    // Use a chunked sending to avoid message size limits. See b/62115660.\n",
              "    let position = 0;\n",
              "    do {\n",
              "      const length = Math.min(fileData.byteLength - position, MAX_PAYLOAD_SIZE);\n",
              "      const chunk = new Uint8Array(fileData, position, length);\n",
              "      position += length;\n",
              "\n",
              "      const base64 = btoa(String.fromCharCode.apply(null, chunk));\n",
              "      yield {\n",
              "        response: {\n",
              "          action: 'append',\n",
              "          file: file.name,\n",
              "          data: base64,\n",
              "        },\n",
              "      };\n",
              "\n",
              "      let percentDone = fileData.byteLength === 0 ?\n",
              "          100 :\n",
              "          Math.round((position / fileData.byteLength) * 100);\n",
              "      percent.textContent = `${percentDone}% done`;\n",
              "\n",
              "    } while (position < fileData.byteLength);\n",
              "  }\n",
              "\n",
              "  // All done.\n",
              "  yield {\n",
              "    response: {\n",
              "      action: 'complete',\n",
              "    }\n",
              "  };\n",
              "}\n",
              "\n",
              "scope.google = scope.google || {};\n",
              "scope.google.colab = scope.google.colab || {};\n",
              "scope.google.colab._files = {\n",
              "  _uploadFiles,\n",
              "  _uploadFilesContinue,\n",
              "};\n",
              "})(self);\n",
              "</script> "
            ]
          },
          "metadata": {}
        },
        {
          "output_type": "stream",
          "name": "stdout",
          "text": [
            "Saving AudioClassification.pdf to AudioClassification.pdf\n"
          ]
        }
      ]
    },
    {
      "cell_type": "code",
      "source": [
        "%cd ..\n",
        "!python ingest.py"
      ],
      "metadata": {
        "colab": {
          "base_uri": "https://localhost:8080/"
        },
        "id": "gWk9438ZRC57",
        "outputId": "3f2bad0b-97d5-42ca-e2b2-1fc4d15463bb"
      },
      "execution_count": null,
      "outputs": [
        {
          "output_type": "stream",
          "name": "stdout",
          "text": [
            "/content/privateGPT\n",
            "Downloading (…)e9125/.gitattributes: 100% 1.18k/1.18k [00:00<00:00, 3.83MB/s]\n",
            "Downloading (…)_Pooling/config.json: 100% 190/190 [00:00<00:00, 1.06MB/s]\n",
            "Downloading (…)7e55de9125/README.md: 100% 10.6k/10.6k [00:00<00:00, 26.2MB/s]\n",
            "Downloading (…)55de9125/config.json: 100% 612/612 [00:00<00:00, 3.22MB/s]\n",
            "Downloading (…)ce_transformers.json: 100% 116/116 [00:00<00:00, 376kB/s]\n",
            "Downloading (…)125/data_config.json: 100% 39.3k/39.3k [00:00<00:00, 71.1MB/s]\n",
            "Downloading pytorch_model.bin: 100% 90.9M/90.9M [00:00<00:00, 133MB/s]\n",
            "Downloading (…)nce_bert_config.json: 100% 53.0/53.0 [00:00<00:00, 272kB/s]\n",
            "Downloading (…)cial_tokens_map.json: 100% 112/112 [00:00<00:00, 506kB/s]\n",
            "Downloading (…)e9125/tokenizer.json: 100% 466k/466k [00:00<00:00, 2.78MB/s]\n",
            "Downloading (…)okenizer_config.json: 100% 350/350 [00:00<00:00, 1.53MB/s]\n",
            "Downloading (…)9125/train_script.py: 100% 13.2k/13.2k [00:00<00:00, 39.0MB/s]\n",
            "Downloading (…)7e55de9125/vocab.txt: 100% 232k/232k [00:00<00:00, 205MB/s]\n",
            "Downloading (…)5de9125/modules.json: 100% 349/349 [00:00<00:00, 1.60MB/s]\n",
            "Creating new vectorstore\n",
            "Loading documents from source_documents\n",
            "Loading new documents: 100%|██████████████████████| 2/2 [00:00<00:00,  3.48it/s]\n",
            "Loaded 2 new documents from source_documents\n",
            "Split into 158 chunks of text (max. 500 tokens each)\n",
            "Creating embeddings. May take some minutes...\n",
            "Using embedded DuckDB with persistence: data will be stored in: db\n",
            "Ingestion complete! You can now run privateGPT.py to query your documents\n"
          ]
        }
      ]
    },
    {
      "cell_type": "code",
      "source": [
        "!python privateGPT.py"
      ],
      "metadata": {
        "colab": {
          "base_uri": "https://localhost:8080/"
        },
        "id": "oprvdFQxSXmB",
        "outputId": "5f1d2ebb-5681-4a8b-9569-9de38395f4eb"
      },
      "execution_count": null,
      "outputs": [
        {
          "output_type": "stream",
          "name": "stdout",
          "text": [
            "Using embedded DuckDB with persistence: data will be stored in: db\n",
            "Found model file.\n",
            "gptj_model_load: loading model from 'models/ggml-gpt4all-j-v1.3-groovy.bin' - please wait ...\n",
            "gptj_model_load: n_vocab = 50400\n",
            "gptj_model_load: n_ctx   = 2048\n",
            "gptj_model_load: n_embd  = 4096\n",
            "gptj_model_load: n_head  = 16\n",
            "gptj_model_load: n_layer = 28\n",
            "gptj_model_load: n_rot   = 64\n",
            "gptj_model_load: f16     = 2\n",
            "gptj_model_load: ggml ctx size = 5401.45 MB\n",
            "gptj_model_load: kv self size  =  896.00 MB\n",
            "gptj_model_load: ................................... done\n",
            "gptj_model_load: model size =  3609.38 MB / num tensors = 285\n",
            "\n",
            "Enter a query: write a summary of the paper AudioClassification.pdf\n",
            " The proposed methodologies discussed by Mujal et al., 2017; Mokhtari-Zadeh & Farsangian (2016) are all research papers that address and investigate various aspects related to audio classification, including sound event detection, music genre recognition, speaker identification in a noisy environment.The paper \"AudioClassiException ignored on calling ctypes callback function: <function LLModel._response_callback at 0x7f817ab8cee0>\n",
            "Traceback (most recent call last):\n",
            "  File \"/usr/local/lib/python3.10/dist-packages/gpt4all/pyllmodel.py\", line 241, in _response_callback\n",
            "    print(response.decode('utf-8'))\n",
            "UnicodeDecodeError: 'utf-8' codec can't decode byte 0xef in position 0: unexpected end of data\n",
            "Exception ignored on calling ctypes callback function: <function LLModel._response_callback at 0x7f817ab8cee0>\n",
            "Traceback (most recent call last):\n",
            "  File \"/usr/local/lib/python3.10/dist-packages/gpt4all/pyllmodel.py\", line 241, in _response_callback\n",
            "    print(response.decode('utf-8'))\n",
            "UnicodeDecodeError: 'utf-8' codec can't decode byte 0xac in position 0: invalid start byte\n",
            "Exception ignored on calling ctypes callback function: <function LLModel._response_callback at 0x7f817ab8cee0>\n",
            "Traceback (most recent call last):\n",
            "  File \"/usr/local/lib/python3.10/dist-packages/gpt4all/pyllmodel.py\", line 241, in _response_callback\n",
            "    print(response.decode('utf-8'))\n",
            "UnicodeDecodeError: 'utf-8' codec can't decode byte 0x81 in position 0: invalid start byte\n",
            "cation\" by Mujal et al., 2017 discusses the development of an end-to-end model for real-time speech analysis using deep convolution neural networks (CNNs). The proposed system is capable of classifying and detecting specific sounds, such as gunfire or explosions.The paper \"Music Genre Recognition Using Convolution Neural Networks\" by MokhtariZadeh & Farsangian, 2016 uses a CNN model to recognize the genre of music played on an iPhone 4S based on audio waveforms extracted from different songs in iTunes library using Android phones running iOS 8.1 or later versions that are capable of playing MP3 and AAC files up to 320 kbps at least once during their lifespan with full sound quality (96-192 kHz).The paper \"Speaker Identification Using Neural Networks\" by Li et al., 2018 describes a speaker identification method based on neural networks, which uses\n",
            " The proposed methodologies discussed by Mujal et al., 2017; Mokhtari-Zadeh & Farsangian (2016) are all research papers that address and investigate various aspects related to audio classification, including sound event detection, music genre recognition, speaker identification in a noisy environment.The paper \"AudioClassication\" by Mujal et al., 2017 discusses the development of an end-to-end model for real-time speech analysis using deep convolution neural networks (CNNs). The proposed system is capable of classifying and detecting specific sounds, such as gunfire or explosions.The paper \"Music Genre Recognition Using Convolution Neural Networks\" by MokhtariZadeh & Farsangian, 2016 uses a CNN model to recognize the genre of music played on an iPhone 4S based on audio waveforms extracted from different songs in iTunes library using Android phones running iOS 8.1 or later versions that are capable of playing MP3 and AAC files up to 320 kbps at least once during their lifespan with full sound quality (96-192 kHz).The paper \"Speaker Identification Using Neural Networks\" by Li et al., 2018 describes a speaker identification method based on neural networks, which uses\n",
            "\n",
            "> Question:\n",
            "write a summary of the paper AudioClassification.pdf\n",
            "\n",
            "> Answer:\n",
            " The proposed methodologies discussed by Mujal et al., 2017; Mokhtari-Zadeh & Farsangian (2016) are all research papers that address and investigate various aspects related to audio classification, including sound event detection, music genre recognition, speaker identification in a noisy environment.The paper \"AudioClassication\" by Mujal et al., 2017 discusses the development of an end-to-end model for real-time speech analysis using deep convolution neural networks (CNNs). The proposed system is capable of classifying and detecting specific sounds, such as gunfire or explosions.The paper \"Music Genre Recognition Using Convolution Neural Networks\" by MokhtariZadeh & Farsangian, 2016 uses a CNN model to recognize the genre of music played on an iPhone 4S based on audio waveforms extracted from different songs in iTunes library using Android phones running iOS 8.1 or later versions that are capable of playing MP3 and AAC files up to 320 kbps at least once during their lifespan with full sound quality (96-192 kHz).The paper \"Speaker Identification Using Neural Networks\" by Li et al., 2018 describes a speaker identification method based on neural networks, which uses\n",
            "\n",
            "> source_documents/AudioClassification.pdf:\n",
            "Audio Classiﬁcation\n",
            "\n",
            "7\n",
            "\n",
            "Fig. 3: Overall Proposed Methodology\n",
            "\n",
            "> source_documents/AudioClassification.pdf:\n",
            "Intelligence, there are countless possible approaches for developing audio recog-\n",
            "nition and classiﬁcation models that make use of various audio feature extraction\n",
            "procedures.\n",
            "\n",
            "> source_documents/AudioClassification.pdf:\n",
            "2 Methodology\n",
            "\n",
            "In this section, we describe the overall methodology of our proposed audio clas-\n",
            "siﬁcation model. We have used a benchmark dataset UrbanSound8K [11] for\n",
            "\n",
            "\f4\n",
            "\n",
            "Moinul et al.\n",
            "\n",
            "> source_documents/AudioClassification.pdf:\n",
            "methods must contend with a slew of diﬃculties when used in the real world.\n",
            "Classifying audio or sound has been a signiﬁcant topic of study for many years\n",
            "with the goal of achieving this classiﬁcation. Multiple models and features have\n",
            "been tried and experimented with over the years, all of which have proved to be\n",
            "helpful and accurate in the process of classifying and separating audio and sound.\n",
            "Many possible applications exist in the area of sound detection and classiﬁcation,\n",
            "\n",
            "Enter a query: Traceback (most recent call last):\n",
            "  File \"/content/privateGPT/privateGPT.py\", line 76, in <module>\n",
            "    main()\n",
            "  File \"/content/privateGPT/privateGPT.py\", line 43, in main\n",
            "    query = input(\"\\nEnter a query: \")\n",
            "KeyboardInterrupt\n",
            "Exception ignored in atexit callback: <bound method PersistentDuckDB.persist of <chromadb.db.duckdb.PersistentDuckDB object at 0x7f817b668f40>>\n",
            "Traceback (most recent call last):\n",
            "  File \"/usr/local/lib/python3.10/dist-packages/chromadb/db/duckdb.py\", line 434, in persist\n",
            "    self._conn.execute(\n",
            "RuntimeError: Query interrupted\n",
            "^C\n"
          ]
        }
      ]
    },
    {
      "cell_type": "code",
      "source": [],
      "metadata": {
        "id": "HeGz7x8cTB9e"
      },
      "execution_count": null,
      "outputs": []
    }
  ]
}